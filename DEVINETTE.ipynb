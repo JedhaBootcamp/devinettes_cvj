{
 "cells": [
  {
   "cell_type": "code",
   "execution_count": 10,
   "metadata": {},
   "outputs": [
    {
     "name": "stdout",
     "output_type": "stream",
     "text": [
      "debut encore : 3 chances restantes. Nombre choisi : 5\n",
      "3 5 bravo !\n",
      "Bravo! vous aviez gagné\n"
     ]
    }
   ],
   "source": [
    "from random import randint\n",
    "\n",
    "class Devinette:\n",
    "    def __init__(self, nbre_de_chance, nom_joueur):\n",
    "        self.nbre_de_chance = nbre_de_chance\n",
    "        self.nom_joueur = nom_joueur\n",
    "\n",
    "    def devines(self):\n",
    "        etat_actuel = \"debut\"\n",
    "        n = randint(0,10)\n",
    "        while self.nbre_de_chance > 0:\n",
    "            message = etat_actuel +  \" encore : \" + str(self.nbre_de_chance) + \" chances restantes. Nombre choisi : \"\n",
    "            var = input(message)\n",
    "            var = int(var)\n",
    "            if var != n :\n",
    "                etat_actuel = \"vous n'aviez pas de chance\"\n",
    "                print(self.nbre_de_chance, var, etat_actuel)\n",
    "            else :\n",
    "                etat_actuel = \"bravo !\"\n",
    "                print(self.nbre_de_chance, var, etat_actuel)\n",
    "                break\n",
    "            \n",
    "            self.nbre_de_chance -= 1    \n",
    "\n",
    "            \n",
    "\n",
    "# Initialisation du devineur\n",
    "j1 = Devinette(3, \"joueur 1\")\n",
    "\n",
    "\n",
    "# j1 devines\n",
    "j1.devines()\n",
    "\n",
    "\n",
    "# Resultat final du jeux\n",
    "if j1.nbre_de_chance !=0:\n",
    "    print('Bravo! vous aviez gagné')\n",
    "else:\n",
    "    print( \" desolé, vous aviez perdu.Vous pourrez faire une partie de jeux prochainement\")"
   ]
  },
  {
   "cell_type": "code",
   "execution_count": null,
   "metadata": {
    "collapsed": true
   },
   "outputs": [],
   "source": []
  }
 ],
 "metadata": {
  "kernelspec": {
   "display_name": "Python 3",
   "language": "python",
   "name": "python3"
  },
  "language_info": {
   "codemirror_mode": {
    "name": "ipython",
    "version": 3
   },
   "file_extension": ".py",
   "mimetype": "text/x-python",
   "name": "python",
   "nbconvert_exporter": "python",
   "pygments_lexer": "ipython3",
   "version": "3.7.0"
  }
 },
 "nbformat": 4,
 "nbformat_minor": 2
}
